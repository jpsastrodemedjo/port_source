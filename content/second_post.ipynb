second_post.ipynb

## Making an article with jupyter notebooks as if it was a markdown

